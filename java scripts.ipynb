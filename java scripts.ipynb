{
 "cells": [
  {
   "cell_type": "code",
   "execution_count": null,
   "id": "856f16d1",
   "metadata": {},
   "outputs": [],
   "source": [
    "// Número de elementos flutuantes extras (corações, óculos e caminhões)\n",
    "const totalElementos = 15;\n",
    "\n",
    "// Lista de ícones flutuantes\n",
    "const icones = [\n",
    "  \"https://cdn-icons-png.flaticon.com/512/744/744465.png\", // coração\n",
    "  \"https://cdn-icons-png.flaticon.com/512/2354/2354571.png\", // carinha com óculos\n",
    "  \"https://cdn-icons-png.flaticon.com/512/2274/2274640.png\"  // caminhão\n",
    "];\n",
    "\n",
    "function criarElementoFlutuante() {\n",
    "  const animacaoDiv = document.querySelector('.animacao');\n",
    "  const img = document.createElement('img');\n",
    "  img.src = icones[Math.floor(Math.random() * icones.length)];\n",
    "  img.classList.add('flutuante');\n",
    "\n",
    "  // Posição e delay aleatório\n",
    "  img.style.left = `${Math.random() * 100}%`;\n",
    "  img.style.animationDuration = `${8 + Math.random() * 4}s`;\n",
    "  img.style.animationDelay = `${Math.random() * 5}s`;\n",
    "  img.style.width = `${40 + Math.random() * 40}px`;\n",
    "\n",
    "  animacaoDiv.appendChild(img);\n",
    "\n",
    "  // Remove após a animação terminar\n",
    "  setTimeout(() => {\n",
    "    img.remove();\n",
    "  }, 15000);\n",
    "}\n",
    "\n",
    "// Criar vários elementos\n",
    "for (let i = 0; i < totalElementos; i++) {\n",
    "  criarElementoFlutuante();\n",
    "}\n",
    "\n",
    "// Continuar criando novos a cada intervalo\n",
    "setInterval(criarElementoFlutuante, 3000);\n"
   ]
  }
 ],
 "metadata": {
  "language_info": {
   "name": "python"
  }
 },
 "nbformat": 4,
 "nbformat_minor": 5
}
