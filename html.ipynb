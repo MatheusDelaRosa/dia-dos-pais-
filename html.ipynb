{
 "cells": [
  {
   "cell_type": "code",
   "execution_count": null,
   "id": "1bb43bd7",
   "metadata": {},
   "outputs": [],
   "source": [
    "<!DOCTYPE html>\n",
    "<html lang=\"pt-BR\">\n",
    "<head>\n",
    "  <meta charset=\"UTF-8\" />\n",
    "  <meta name=\"viewport\" content=\"width=device-width, initial-scale=1.0\" />\n",
    "  <title>Feliz Dia dos Pais</title>\n",
    "  <link rel=\"stylesheet\" href=\"estilo.css\" />\n",
    "</head>\n",
    "<body>\n",
    "  <div class=\"container\">\n",
    "    <h1>Feliz Dia dos Pais! 👨‍👧‍👦</h1>\n",
    "    <p class=\"frase-biblica\">\"O justo anda na sua integridade; felizes são os seus filhos depois dele.\" <br>– Provérbios 20:7</p>\n",
    "    \n",
    "    <!-- Animações flutuantes -->\n",
    "    <div class=\"animacao\">\n",
    "      <img src=\"https://cdn-icons-png.flaticon.com/512/744/744465.png\" alt=\"Coração\" class=\"flutuante coracao\">\n",
    "      <img src=\"https://cdn-icons-png.flaticon.com/512/2354/2354571.png\" alt=\"Carinha de óculos\" class=\"flutuante oculos\">\n",
    "      <img src=\"https://cdn-icons-png.flaticon.com/512/2274/2274640.png\" alt=\"Caminhão\" class=\"flutuante caminhao\">\n",
    "    </div>\n",
    "    \n",
    "    <div class=\"mensagem\">\n",
    "      <p>Você é nossa direção, nossa força, nosso herói! Te amamos, Pai! 💪❤️</p>\n",
    "    </div>\n",
    "  </div>\n",
    "\n",
    "  <script src=\"animacao.js\"></script>\n",
    "</body>\n",
    "</html>\n"
   ]
  }
 ],
 "metadata": {
  "language_info": {
   "name": "python"
  }
 },
 "nbformat": 4,
 "nbformat_minor": 5
}
